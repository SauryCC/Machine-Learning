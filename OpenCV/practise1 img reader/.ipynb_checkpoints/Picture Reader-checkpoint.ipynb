{
 "cells": [
  {
   "cell_type": "code",
   "execution_count": null,
   "metadata": {},
   "outputs": [],
   "source": [
    "#_____ read image\n",
    "import cv2\n",
    "# 0: grey pic, 1: colored pic\n",
    "img = cv2.imread('img1.jpg',1)\n",
    "# ('_name of picture displayed_', img got by imread)\n",
    "cv2.imshow('image',img)\n",
    "# stop program to show picture, otherwise it will go away quickly\n",
    "cv2.waitKey(0)"
   ]
  },
  {
   "cell_type": "code",
   "execution_count": 1,
   "metadata": {},
   "outputs": [
    {
     "data": {
      "text/plain": [
       "True"
      ]
     },
     "execution_count": 1,
     "metadata": {},
     "output_type": "execute_result"
    }
   ],
   "source": [
    "#_____ rewrite image into other format\n",
    "import cv2\n",
    "cv2.imread('img1.jpg',1)\n",
    "img = cv2.imread('img1.jpg',1)\n",
    "# ('_name of new written image.filetype_', img got by imread)\n",
    "# uncompress the original jpg and rewrite(recompress) into png file\n",
    "cv2.imwrite('image1.png',img)"
   ]
  },
  {
   "cell_type": "code",
   "execution_count": 3,
   "metadata": {},
   "outputs": [
    {
     "data": {
      "text/plain": [
       "True"
      ]
     },
     "execution_count": 3,
     "metadata": {},
     "output_type": "execute_result"
    }
   ],
   "source": [
    "#_____ change compress quality of jpg, HAS LOSS!\n",
    "import cv2\n",
    "img = cv2.imread('img1.jpg',1)\n",
    "# recompress the picture with 0 quality (low quality)\n",
    "# compress range: 0 - 100 with certain loss\n",
    "cv2.imwrite('lowQualityImage1.jpg',img,[cv2.IMWRITE_JPEG_QUALITY,0])\n",
    "# normally recompress winthin 10x will remain a decent quality\n",
    "cv2.imwrite('mediumQualityImage1.jpg',img,[cv2.IMWRITE_JPEG_QUALITY,50])"
   ]
  },
  {
   "cell_type": "code",
   "execution_count": 4,
   "metadata": {},
   "outputs": [
    {
     "data": {
      "text/plain": [
       "True"
      ]
     },
     "execution_count": 4,
     "metadata": {},
     "output_type": "execute_result"
    }
   ],
   "source": [
    "#_____ change compress quality of png, NO LOSS! BUT will not reduce in size as much as jpg.\n",
    "import cv2\n",
    "img = cv2.imread('img1.jpg',1)\n",
    "# png compress has no loss! and it can change transparency\n",
    "# 0 compression here, range : 0-9\n",
    "cv2.imwrite('noCompressImage1PNG.png',img,[cv2.IMWRITE_PNG_COMPRESSION,0])\n",
    "# normally recompress winthin 10x will remain a decent quality\n",
    "cv2.imwrite('highCompressQualityImage1PNG.png',img,[cv2.IMWRITE_PNG_COMPRESSION,9])"
   ]
  },
  {
   "cell_type": "code",
   "execution_count": null,
   "metadata": {},
   "outputs": [],
   "source": []
  }
 ],
 "metadata": {
  "kernelspec": {
   "display_name": "Python 3",
   "language": "python",
   "name": "python3"
  },
  "language_info": {
   "codemirror_mode": {
    "name": "ipython",
    "version": 3
   },
   "file_extension": ".py",
   "mimetype": "text/x-python",
   "name": "python",
   "nbconvert_exporter": "python",
   "pygments_lexer": "ipython3",
   "version": "3.7.3"
  }
 },
 "nbformat": 4,
 "nbformat_minor": 2
}
